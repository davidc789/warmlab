{
 "cells": [
  {
   "cell_type": "markdown",
   "source": [
    "# Simple"
   ],
   "metadata": {
    "collapsed": false
   },
   "id": "dfe4ef81db181d94"
  },
  {
   "cell_type": "code",
   "execution_count": 1,
   "outputs": [
    {
     "data": {
      "text/plain": "[1.2626541862310187e-05,\n 0.249992452560036,\n 0.2499924525365399,\n 1.2626541862250847e-05,\n 0.24999492047669403,\n 0.24999492047669403]"
     },
     "execution_count": 1,
     "metadata": {},
     "output_type": "execute_result"
    }
   ],
   "source": [
    "import igraph as ig\n",
    "from warmlab import warm\n",
    "\n",
    "k2 = [\n",
    "    (0, 1), (1, 2), (2, 3), (3, 0), (0, 2), (1, 3)\n",
    "]\n",
    "\n",
    "graph = ig.Graph(k2 + [(x + 4, y + 4) for (x, y) in k2] + [(0, 4)])\n",
    "model = warm.WarmModel(\n",
    "    is_graph=True,\n",
    "    graph=graph,\n",
    "    probs=[]\n",
    ")\n",
    "solution = warm.solve(model)\n",
    "solution.x_opt\n"
   ],
   "metadata": {
    "collapsed": false,
    "ExecuteTime": {
     "end_time": "2023-10-03T23:50:20.517660300Z",
     "start_time": "2023-10-03T23:50:14.898957400Z"
    }
   },
   "id": "bd8f1ec2e72f8be1"
  }
 ],
 "metadata": {
  "kernelspec": {
   "display_name": "Python 3",
   "language": "python",
   "name": "python3"
  },
  "language_info": {
   "codemirror_mode": {
    "name": "ipython",
    "version": 2
   },
   "file_extension": ".py",
   "mimetype": "text/x-python",
   "name": "python",
   "nbconvert_exporter": "python",
   "pygments_lexer": "ipython2",
   "version": "2.7.6"
  }
 },
 "nbformat": 4,
 "nbformat_minor": 5
}
