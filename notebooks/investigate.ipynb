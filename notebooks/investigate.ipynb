{
 "cells": [
  {
   "cell_type": "markdown",
   "source": [
    "# Investiagtion"
   ],
   "metadata": {
    "collapsed": false
   },
   "execution_count": 1
  },
  {
   "cell_type": "markdown",
   "source": [
    "This notebooks aims to investigate various WARM solving algorithms"
   ],
   "metadata": {
    "collapsed": false
   }
  },
  {
   "cell_type": "code",
   "execution_count": 1,
   "outputs": [
    {
     "name": "stdout",
     "output_type": "stream",
     "text": [
      "(CVXPY) May 24 03:26:29 PM: Encountered unexpected exception importing solver GLOP:\n",
      "RuntimeError('Unrecognized new version of ortools (9.5.2237). Expected < 9.5.0.Please open a feature request on cvxpy to enable support for this version.')\n",
      "(CVXPY) May 24 03:26:29 PM: Encountered unexpected exception importing solver PDLP:\n",
      "RuntimeError('Unrecognized new version of ortools (9.5.2237). Expected < 9.5.0.Please open a feature request on cvxpy to enable support for this version.')\n"
     ]
    }
   ],
   "source": [
    "import numpy as np\n",
    "from igraph import Graph\n",
    "from warm import WarmModel, WarmGraph"
   ],
   "metadata": {
    "collapsed": false,
    "ExecuteTime": {
     "start_time": "2023-05-24T15:26:28.383706Z",
     "end_time": "2023-05-24T15:26:31.336865Z"
    }
   }
  },
  {
   "cell_type": "code",
   "execution_count": 3,
   "outputs": [
    {
     "data": {
      "text/plain": "  message: The solver successfully reached the end of the integration interval.\n  success: True\n   status: 0\n        t: [ 0.000e+00  8.709e-02  8.993e-01  1.000e+00]\n        y: [[ 5.000e-01  4.166e-01 -9.304e-02 -1.320e-01]\n            [ 5.000e-01  4.166e-01 -9.304e-02 -1.320e-01]]\n      sol: None\n t_events: None\n y_events: None\n     nfev: 20\n     njev: 0\n      nlu: 0"
     },
     "execution_count": 3,
     "metadata": {},
     "output_type": "execute_result"
    }
   ],
   "source": [
    "graph = Graph(n=3, edges=[[0, 1], [0, 2]])\n",
    "model = WarmGraph(graph)\n",
    "solution = model.analyze(np.array([0.5, 0.5]))\n",
    "solution"
   ],
   "metadata": {
    "collapsed": false
   }
  },
  {
   "cell_type": "code",
   "execution_count": 4,
   "outputs": [
    {
     "data": {
      "text/plain": "array([[ 0.5       ,  0.41659474, -0.09303513, -0.13201969],\n       [ 0.5       ,  0.41659474, -0.09303513, -0.13201969]])"
     },
     "execution_count": 4,
     "metadata": {},
     "output_type": "execute_result"
    }
   ],
   "source": [
    "solution.y"
   ],
   "metadata": {
    "collapsed": false
   }
  },
  {
   "cell_type": "code",
   "execution_count": 2,
   "outputs": [
    {
     "name": "stdout",
     "output_type": "stream",
     "text": [
      "[0.1250053457444249, 0.12500534542588557, 0.12498945306000188, 0.12498945274149259, 0.12498945295513916, 0.12500534553668832, 0.1250053456146193, 0.12498945288151753, 2.080550358144796e-05]\n",
      "-1.0369270784372882e-05\n",
      "[2.09330347e-09 2.09739931e-09 2.09330347e-09 2.10219089e-09\n",
      " 2.10219090e-09 2.09330347e-09 2.09739931e-09 2.09330348e-09]\n",
      "[2.09609589e-09 2.09609591e-09 2.09371331e-09 2.09371333e-09\n",
      " 2.09371332e-09 2.09609590e-09 2.09609589e-09 2.09371333e-09\n",
      " 4.23652199e-05]\n",
      "2.386294361456877 [0.1250053457444249, 0.12500534542588557, 0.12498945306000188, 0.12498945274149259, 0.12498945295513916, 0.12500534553668832, 0.1250053456146193, 0.12498945288151753, 2.080550358144796e-05]\n"
     ]
    }
   ],
   "source": [
    "graph = Graph(n=8, edges=[[0, 1], [1, 2], [2, 3], [3, 0], [4, 5], [5, 6],\n",
    "                              [6, 7], [7, 4], [3, 4]])\n",
    "model = WarmGraph(graph)\n",
    "solution, values = model.solve()\n",
    "print(solution, values)"
   ],
   "metadata": {
    "collapsed": false,
    "ExecuteTime": {
     "start_time": "2023-05-24T15:22:43.039897Z",
     "end_time": "2023-05-24T15:22:43.169005Z"
    }
   }
  },
  {
   "cell_type": "code",
   "execution_count": 16,
   "outputs": [
    {
     "name": "stdout",
     "output_type": "stream",
     "text": [
      "[0.1250053457444249, 0.12500534542588557, 0.12498945306000188, 0.12498945274149259, 0.12498945295513916, 0.12500534553668832, 0.1250053456146193, 0.12498945288151753, 2.080550358144796e-05]\n",
      "-1.0369270784372882e-05\n",
      "[2.09330347e-09 2.09739931e-09 2.09330347e-09 2.10219089e-09\n",
      " 2.10219090e-09 2.09330347e-09 2.09739931e-09 2.09330348e-09]\n",
      "[2.09609589e-09 2.09609591e-09 2.09371331e-09 2.09371333e-09\n",
      " 2.09371332e-09 2.09609590e-09 2.09609589e-09 2.09371333e-09\n",
      " 4.23652199e-05]\n",
      "2.386294361456877 [0.1250053457444249, 0.12500534542588557, 0.12498945306000188, 0.12498945274149259, 0.12498945295513916, 0.12500534553668832, 0.1250053456146193, 0.12498945288151753, 2.080550358144796e-05]\n"
     ]
    }
   ],
   "source": [
    "graph = Graph(n=8, edges=[[0, 1], [1, 2], [2, 3], [3, 0], [4, 5], [5, 6],\n",
    "                              [6, 7], [7, 4], [3, 4]])\n",
    "model = WarmGraph(graph, probs=[1,1,1,1,1,1,1,1])\n",
    "solution, values = model.solve()\n",
    "print(solution, values)\n",
    "\n",
    "# TODO: a graph vis\n",
    "# TODO: fraction helper\n"
   ],
   "metadata": {
    "collapsed": false,
    "ExecuteTime": {
     "start_time": "2023-05-24T16:00:44.083337Z",
     "end_time": "2023-05-24T16:00:44.161855Z"
    }
   }
  },
  {
   "cell_type": "code",
   "execution_count": null,
   "outputs": [],
   "source": [],
   "metadata": {
    "collapsed": false
   }
  }
 ],
 "metadata": {
  "kernelspec": {
   "display_name": "Python 3",
   "language": "python",
   "name": "python3"
  },
  "language_info": {
   "codemirror_mode": {
    "name": "ipython",
    "version": 2
   },
   "file_extension": ".py",
   "mimetype": "text/x-python",
   "name": "python",
   "nbconvert_exporter": "python",
   "pygments_lexer": "ipython2",
   "version": "2.7.6"
  }
 },
 "nbformat": 4,
 "nbformat_minor": 0
}
